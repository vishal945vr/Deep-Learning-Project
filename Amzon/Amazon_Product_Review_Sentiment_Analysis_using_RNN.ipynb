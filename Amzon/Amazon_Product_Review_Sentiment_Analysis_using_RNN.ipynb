{
  "cells": [
    {
      "cell_type": "code",
      "execution_count": 1,
      "metadata": {
        "id": "gtIsI1uCTMJq"
      },
      "outputs": [
        {
          "ename": "ModuleNotFoundError",
          "evalue": "No module named 'tensorflow'",
          "output_type": "error",
          "traceback": [
            "\u001b[1;31m---------------------------------------------------------------------------\u001b[0m",
            "\u001b[1;31mModuleNotFoundError\u001b[0m                       Traceback (most recent call last)",
            "Cell \u001b[1;32mIn[1], line 9\u001b[0m\n\u001b[0;32m      7\u001b[0m \u001b[38;5;28;01mfrom\u001b[39;00m \u001b[38;5;21;01mnltk\u001b[39;00m\u001b[38;5;21;01m.\u001b[39;00m\u001b[38;5;21;01mcorpus\u001b[39;00m \u001b[38;5;28;01mimport\u001b[39;00m stopwords\n\u001b[0;32m      8\u001b[0m \u001b[38;5;28;01mfrom\u001b[39;00m \u001b[38;5;21;01mnltk\u001b[39;00m\u001b[38;5;21;01m.\u001b[39;00m\u001b[38;5;21;01mtokenize\u001b[39;00m \u001b[38;5;28;01mimport\u001b[39;00m word_tokenize\n\u001b[1;32m----> 9\u001b[0m \u001b[38;5;28;01mimport\u001b[39;00m \u001b[38;5;21;01mtensorflow\u001b[39;00m \u001b[38;5;28;01mas\u001b[39;00m \u001b[38;5;21;01mtf\u001b[39;00m\n\u001b[0;32m     10\u001b[0m \u001b[38;5;28;01mfrom\u001b[39;00m \u001b[38;5;21;01mtensorflow\u001b[39;00m\u001b[38;5;21;01m.\u001b[39;00m\u001b[38;5;21;01mkeras\u001b[39;00m\u001b[38;5;21;01m.\u001b[39;00m\u001b[38;5;21;01mlayers\u001b[39;00m \u001b[38;5;28;01mimport\u001b[39;00m SimpleRNN, LSTM, Dense, Dropout, Embedding, BatchNormalization\n\u001b[0;32m     11\u001b[0m \u001b[38;5;28;01mfrom\u001b[39;00m \u001b[38;5;21;01mtensorflow\u001b[39;00m\u001b[38;5;21;01m.\u001b[39;00m\u001b[38;5;21;01mkeras\u001b[39;00m\u001b[38;5;21;01m.\u001b[39;00m\u001b[38;5;21;01mmodels\u001b[39;00m \u001b[38;5;28;01mimport\u001b[39;00m Sequential\n",
            "\u001b[1;31mModuleNotFoundError\u001b[0m: No module named 'tensorflow'"
          ]
        }
      ],
      "source": [
        "import pandas as pd\n",
        "import numpy as np\n",
        "import matplotlib.pyplot as plt\n",
        "import re\n",
        "import seaborn as sns\n",
        "import nltk\n",
        "from nltk.corpus import stopwords\n",
        "from nltk.tokenize import word_tokenize\n",
        "import tensorflow as tf\n",
        "from tensorflow.keras.layers import SimpleRNN, LSTM, Dense, Dropout, Embedding, BatchNormalization\n",
        "from tensorflow.keras.models import Sequential\n",
        "from tensorflow.keras.preprocessing.text import Tokenizer\n",
        "from tensorflow.keras.utils import pad_sequences\n",
        "\n",
        "import warnings\n",
        "warnings.filterwarnings('ignore')"
      ]
    },
    {
      "cell_type": "code",
      "execution_count": null,
      "metadata": {
        "colab": {
          "base_uri": "https://localhost:8080/"
        },
        "id": "_du6VaH-Vbv4",
        "outputId": "cd82b0fe-f037-49bc-8280-a62b717e6c97"
      },
      "outputs": [
        {
          "name": "stdout",
          "output_type": "stream",
          "text": [
            "(25000, 2)\n",
            "<class 'pandas.core.frame.DataFrame'>\n",
            "RangeIndex: 25000 entries, 0 to 24999\n",
            "Data columns (total 2 columns):\n",
            " #   Column     Non-Null Count  Dtype \n",
            "---  ------     --------------  ----- \n",
            " 0   Review     24999 non-null  object\n",
            " 1   Sentiment  25000 non-null  int64 \n",
            "dtypes: int64(1), object(1)\n",
            "memory usage: 390.8+ KB\n",
            "None\n"
          ]
        }
      ],
      "source": [
        "data = pd.read_csv('AmazonReview.csv')\n",
        "\n",
        "# Printing shape of the dataset\n",
        "print(data.shape)\n",
        "# printing columns and rows information\n",
        "print(data.info())"
      ]
    },
    {
      "cell_type": "code",
      "execution_count": null,
      "metadata": {
        "colab": {
          "base_uri": "https://localhost:8080/"
        },
        "id": "e7Rrf405VeOa",
        "outputId": "27540d0b-5e01-46fc-d1ad-dc574f450809"
      },
      "outputs": [
        {
          "name": "stdout",
          "output_type": "stream",
          "text": [
            "Null Values:\n",
            " Review       1\n",
            "Sentiment    0\n",
            "dtype: int64\n",
            "Null Values after dropping:\n",
            " Review       0\n",
            "Sentiment    0\n",
            "dtype: int64\n"
          ]
        }
      ],
      "source": [
        "# looking for NULL values\n",
        "print(\"Null Values:\\n\", data.isna().sum())\n",
        "\n",
        "# dropping null values\n",
        "data = data.dropna()\n",
        "\n",
        "# again checking for NULL values\n",
        "print(\"Null Values after dropping:\\n\", data.isna().sum())"
      ]
    },
    {
      "cell_type": "code",
      "execution_count": null,
      "metadata": {
        "colab": {
          "base_uri": "https://localhost:8080/"
        },
        "id": "f7Pz39z7Vf4a",
        "outputId": "b74ec19f-008d-4c5b-cd66-aea77a396c69"
      },
      "outputs": [
        {
          "data": {
            "text/plain": [
              "Sentiment\n",
              "1    5000\n",
              "2    5000\n",
              "3    5000\n",
              "4    5000\n",
              "5    4999\n",
              "Name: count, dtype: int64"
            ]
          },
          "execution_count": 5,
          "metadata": {},
          "output_type": "execute_result"
        }
      ],
      "source": [
        "# count of unique values in Sentiment column\n",
        "data['Sentiment'].value_counts()"
      ]
    },
    {
      "cell_type": "code",
      "execution_count": null,
      "metadata": {
        "colab": {
          "base_uri": "https://localhost:8080/"
        },
        "id": "fT_cCY4qVhiM",
        "outputId": "bc329099-afec-4117-91b7-7980a708ed73"
      },
      "outputs": [
        {
          "name": "stderr",
          "output_type": "stream",
          "text": [
            "[nltk_data] Downloading package stopwords to /root/nltk_data...\n",
            "[nltk_data]   Unzipping corpora/stopwords.zip.\n",
            "[nltk_data] Downloading package punkt to /root/nltk_data...\n",
            "[nltk_data]   Unzipping tokenizers/punkt.zip.\n"
          ]
        }
      ],
      "source": [
        "# downloading stopwords from nltk library\n",
        "nltk.download('stopwords')\n",
        "stop_words = set(stopwords.words('english'))\n",
        "\n",
        "# downloading punkt sentence tokenizer models\n",
        "nltk.download('punkt')\n",
        "\n",
        "# Review text Cleaning\n",
        "def clean_reviews(text):\n",
        "\n",
        "\t# removing html brackets and other square brackets from the string using regex\n",
        "\tregex = re.compile('<.*?>') # r'<.*?>'\n",
        "\ttext = re.sub(regex, '', text)\n",
        "\n",
        "\t# removing special characters like @, #, $, etc\n",
        "\tpattern = re.compile('[^a-zA-z0-9\\s]')\n",
        "\ttext = re.sub(pattern,'',text)\n",
        "\n",
        "\t# removing numbers\n",
        "\tpattern = re.compile('\\d+')\n",
        "\ttext = re.sub(pattern,'',text)\n",
        "\n",
        "\t# converting text to lower case\n",
        "\ttext = text.lower()\n",
        "\n",
        "\t# Tokenization of words\n",
        "\ttext = word_tokenize(text)\n",
        "\n",
        "\t# Stop words removal\n",
        "\ttext = [word for word in text if not word in stop_words]\n",
        "\n",
        "\treturn text\n",
        "\n",
        "# using the clean_reviews function on the dataset\n",
        "data['Review'] = data['Review'].apply(clean_reviews)"
      ]
    },
    {
      "cell_type": "code",
      "execution_count": null,
      "metadata": {
        "colab": {
          "base_uri": "https://localhost:8080/"
        },
        "id": "Rx-pGYp3bwL1",
        "outputId": "a7d381ce-e9fe-4b2c-ee8f-ebe3d39e6ef7"
      },
      "outputs": [
        {
          "name": "stdout",
          "output_type": "stream",
          "text": [
            "(24999, 500) (24999, 5)\n"
          ]
        }
      ],
      "source": [
        "tokenizer = Tokenizer()\n",
        "\n",
        "# converting all the reviews to list to pass it as a parameter to fit_on_texts\n",
        "reviews_to_list = data['Review'].tolist()\n",
        "tokenizer.fit_on_texts(reviews_to_list)\n",
        "\n",
        "# Generating text sequences\n",
        "text_sequences = tokenizer.texts_to_sequences(reviews_to_list)\n",
        "\n",
        "# setting maximum words we want in an example\n",
        "max_words = 500\n",
        "\n",
        "# Padding sequences\n",
        "# - Before converting to a NumPy array, pad the sequences to ensure they all have the same length.\n",
        "padded_sequences = pad_sequences(text_sequences, maxlen=max_words) # Use the same max_words value\n",
        "\n",
        "text_sequences = np.array(padded_sequences)\n",
        "\n",
        "# one hot encoding\n",
        "data = pd.get_dummies(data, columns = ['Sentiment'])\n",
        "\n",
        "\n",
        "# Generatin our X (input) to the model\n",
        "# using pad_sequences and y (output)\n",
        "X = pad_sequences(text_sequences, maxlen = max_words)\n",
        "y = data[['Sentiment_1', 'Sentiment_2', 'Sentiment_3', 'Sentiment_4',\n",
        "    'Sentiment_5']]\n",
        "print(X.shape, y.shape)"
      ]
    },
    {
      "cell_type": "code",
      "execution_count": null,
      "metadata": {
        "colab": {
          "base_uri": "https://localhost:8080/"
        },
        "id": "dvk-REWWVl9G",
        "outputId": "ef22153f-9aa4-4633-8639-18c5998d4486"
      },
      "outputs": [
        {
          "name": "stdout",
          "output_type": "stream",
          "text": [
            "(19999, 500) (5000, 500) (19999, 5) (5000, 5)\n"
          ]
        }
      ],
      "source": [
        "# Train Test split\n",
        "from sklearn.model_selection import train_test_split\n",
        "X_train, X_test, y_train, y_test = train_test_split(X, y, test_size=0.20, random_state=42)\n",
        "\n",
        "print(X_train.shape, X_test.shape, y_train.shape, y_test.shape)"
      ]
    },
    {
      "cell_type": "code",
      "execution_count": null,
      "metadata": {
        "colab": {
          "base_uri": "https://localhost:8080/"
        },
        "id": "fgDS3zlxVnPv",
        "outputId": "a5166da6-bfef-4e09-9899-e859107b2115"
      },
      "outputs": [
        {
          "name": "stdout",
          "output_type": "stream",
          "text": [
            "Model: \"Simple_RNN\"\n",
            "_________________________________________________________________\n",
            " Layer (type)                Output Shape              Param #   \n",
            "=================================================================\n",
            " embedding (Embedding)       (None, 500, 500)          19819500  \n",
            "                                                                 \n",
            " simple_rnn (SimpleRNN)      (None, 500, 128)          80512     \n",
            "                                                                 \n",
            " simple_rnn_1 (SimpleRNN)    (None, 64)                12352     \n",
            "                                                                 \n",
            " dense (Dense)               (None, 5)                 325       \n",
            "                                                                 \n",
            "=================================================================\n",
            "Total params: 19912689 (75.96 MB)\n",
            "Trainable params: 19912689 (75.96 MB)\n",
            "Non-trainable params: 0 (0.00 Byte)\n",
            "_________________________________________________________________\n",
            "None\n"
          ]
        }
      ],
      "source": [
        "# Creating a RNN model\n",
        "rnn = Sequential(name=\"Simple_RNN\")\n",
        "rnn.add(Embedding(len(tokenizer.word_index)+1,\n",
        "\t\t\t\t\t\tmax_words,\n",
        "\t\t\t\t\t\tinput_length=max_words))\n",
        "\n",
        "rnn.add(SimpleRNN(128,activation='relu',return_sequences=True))\n",
        "\n",
        "rnn.add(SimpleRNN(64,activation='relu',return_sequences=False))\n",
        "\n",
        "rnn.add(Dense(5, activation='softmax'))\n",
        "\n",
        "# printing model summary\n",
        "print(rnn.summary())"
      ]
    },
    {
      "cell_type": "code",
      "execution_count": null,
      "metadata": {
        "colab": {
          "base_uri": "https://localhost:8080/"
        },
        "id": "FWp8-o99Vpha",
        "outputId": "4ab7fb60-ffaa-44be-9e87-f6ca24f94311"
      },
      "outputs": [
        {
          "name": "stdout",
          "output_type": "stream",
          "text": [
            "Epoch 1/2\n",
            "313/313 [==============================] - 345s 1s/step - loss: 1.3691 - accuracy: 0.3903 - val_loss: 1.2587 - val_accuracy: 0.4398\n",
            "Epoch 2/2\n",
            "313/313 [==============================] - 322s 1s/step - loss: 1.0499 - accuracy: 0.5579 - val_loss: 1.2817 - val_accuracy: 0.4382\n",
            "157/157 [==============================] - 14s 90ms/step - loss: 1.2817 - accuracy: 0.4382\n",
            "Simple_RNN Score--->  [1.2816991806030273, 0.4381999969482422]\n"
          ]
        }
      ],
      "source": [
        "# Compiling model\n",
        "rnn.compile(\n",
        "\tloss=\"categorical_crossentropy\",\n",
        "\toptimizer='adam',\n",
        "\tmetrics=['accuracy']\n",
        ")\n",
        "\n",
        "# Training the model\n",
        "history = rnn.fit(X_train, y_train,\n",
        "\t\t\t\t\t\tbatch_size=64,\n",
        "\t\t\t\t\t\tepochs=2,\n",
        "\t\t\t\t\t\tverbose=1,\n",
        "\t\t\t\t\t\tvalidation_data = (X_test, y_test))\n",
        "\n",
        "# Printing model score on test data\n",
        "print(\"Simple_RNN Score---> \", rnn.evaluate(X_test, y_test, verbose=1))"
      ]
    },
    {
      "cell_type": "code",
      "execution_count": null,
      "metadata": {
        "colab": {
          "base_uri": "https://localhost:8080/"
        },
        "id": "dpVuI2wbVrJf",
        "outputId": "84159ee0-8981-43d2-b1e7-5c57223f3fa5"
      },
      "outputs": [
        {
          "name": "stdout",
          "output_type": "stream",
          "text": [
            "Model: \"LSTM_Model\"\n",
            "_________________________________________________________________\n",
            " Layer (type)                Output Shape              Param #   \n",
            "=================================================================\n",
            " embedding_1 (Embedding)     (None, 500, 500)          19819500  \n",
            "                                                                 \n",
            " lstm (LSTM)                 (None, 150)               390600    \n",
            "                                                                 \n",
            " dropout (Dropout)           (None, 150)               0         \n",
            "                                                                 \n",
            " dense_1 (Dense)             (None, 50)                7550      \n",
            "                                                                 \n",
            " dropout_1 (Dropout)         (None, 50)                0         \n",
            "                                                                 \n",
            " dense_2 (Dense)             (None, 5)                 255       \n",
            "                                                                 \n",
            "=================================================================\n",
            "Total params: 20217905 (77.13 MB)\n",
            "Trainable params: 20217905 (77.13 MB)\n",
            "Non-trainable params: 0 (0.00 Byte)\n",
            "_________________________________________________________________\n",
            "None\n"
          ]
        }
      ],
      "source": [
        "model = Sequential(name=\"LSTM_Model\")\n",
        "model.add(Embedding(len(tokenizer.word_index)+1,\n",
        "\t\t\t\t\tmax_words,\n",
        "\t\t\t\t\tinput_length=max_words))\n",
        "\n",
        "# adding a LSTM layer\n",
        "model.add(LSTM(150, return_sequences=False))\n",
        "BatchNormalization()\n",
        "model.add(Dropout(0.5))\n",
        "\n",
        "#adding a dense layer with activation function of relu\n",
        "model.add(Dense(50, activation='relu'))\n",
        "BatchNormalization()\n",
        "model.add(Dropout(0.5))\n",
        "\n",
        "# adding the final output activation with activation function of softmax\n",
        "model.add(Dense(5, activation='softmax'))\n",
        "\n",
        "# printing model summary\n",
        "print(model.summary())"
      ]
    },
    {
      "cell_type": "code",
      "execution_count": null,
      "metadata": {
        "colab": {
          "base_uri": "https://localhost:8080/"
        },
        "id": "ZFDO3rzUVs7k",
        "outputId": "fada77e7-4209-42e6-b2ab-34e26d87c02f"
      },
      "outputs": [
        {
          "name": "stdout",
          "output_type": "stream",
          "text": [
            "Epoch 1/3\n",
            "313/313 [==============================] - 47s 135ms/step - loss: 1.3797 - accuracy: 0.3794 - val_loss: 1.2383 - val_accuracy: 0.4624\n",
            "Epoch 2/3\n",
            "313/313 [==============================] - 30s 96ms/step - loss: 1.1051 - accuracy: 0.5323 - val_loss: 1.2348 - val_accuracy: 0.4696\n",
            "Epoch 3/3\n",
            "313/313 [==============================] - 24s 78ms/step - loss: 0.9047 - accuracy: 0.6384 - val_loss: 1.3499 - val_accuracy: 0.4550\n",
            "157/157 [==============================] - 2s 11ms/step - loss: 1.3499 - accuracy: 0.4550\n",
            "LSTM model Score--->  [1.3499494791030884, 0.45500001311302185]\n"
          ]
        }
      ],
      "source": [
        "# Compiling the model\n",
        "model.compile(\n",
        "\tloss=\"categorical_crossentropy\",\n",
        "\toptimizer='adam',\n",
        "\tmetrics=['accuracy']\n",
        ")\n",
        "\n",
        "# Training the GRU model\n",
        "history = model.fit(X_train, y_train,\n",
        "\t\t\t\t\t\tbatch_size=64,\n",
        "\t\t\t\t\t\tepochs=3,\n",
        "\t\t\t\t\t\tverbose=1,\n",
        "\t\t\t\t\tvalidation_data=(X_test, y_test))\n",
        "\n",
        "# Printing model score on test data\n",
        "print(\"LSTM model Score---> \", model.evaluate(X_test, y_test, verbose=1))"
      ]
    },
    {
      "cell_type": "code",
      "execution_count": null,
      "metadata": {
        "colab": {
          "base_uri": "https://localhost:8080/",
          "height": 391
        },
        "id": "VXHh9tEdVuqt",
        "outputId": "63766d6c-e911-40ae-84b7-8d6160abd22d"
      },
      "outputs": [
        {
          "data": {
            "text/plain": [
              "Text(0, 0.5, 'Accuracy')"
            ]
          },
          "execution_count": 13,
          "metadata": {},
          "output_type": "execute_result"
        },
        {
          "data": {
            "image/png": "[encoded data removed]",
            "text/plain": [
              "<Figure size 1000x500 with 2 Axes>"
            ]
          },
          "metadata": {},
          "output_type": "display_data"
        }
      ],
      "source": [
        "# Plotting the history\n",
        "metrics = history.history\n",
        "plt.figure(figsize=(10, 5))\n",
        "\n",
        "# Plotting training and validation loss\n",
        "plt.subplot(1, 2, 1)\n",
        "plt.plot(history.epoch, metrics['loss'], metrics['val_loss'])\n",
        "plt.legend(['loss', 'val_loss'])\n",
        "plt.xlabel('Epoch')\n",
        "plt.ylabel('Loss')\n",
        "\n",
        "# Plotting training and validation accuracy\n",
        "plt.subplot(1, 2, 2)\n",
        "plt.plot(history.epoch, metrics['accuracy'],\n",
        "\t\tmetrics['val_accuracy'])\n",
        "plt.legend(['accuracy', 'val_accuracy'])\n",
        "plt.xlabel('Epoch')\n",
        "plt.ylabel('Accuracy')"
      ]
    },
    {
      "cell_type": "code",
      "execution_count": null,
      "metadata": {
        "colab": {
          "base_uri": "https://localhost:8080/",
          "height": 611
        },
        "id": "h-F7Kz16VwoX",
        "outputId": "edee2d09-e15b-4dd6-a3db-d59237b2ddd6"
      },
      "outputs": [
        {
          "name": "stdout",
          "output_type": "stream",
          "text": [
            "157/157 [==============================] - 2s 9ms/step\n"
          ]
        },
        {
          "data": {
            "image/png": "[encoded data removed]",
            "text/plain": [
              "<Figure size 1000x800 with 2 Axes>"
            ]
          },
          "metadata": {},
          "output_type": "display_data"
        }
      ],
      "source": [
        "# converting y_test tht was one hot encoded to one column fo rconfusion matrix\n",
        "y_true = np.argmax(y_test.values, axis=1)\n",
        "y_true.shape\n",
        "\n",
        "# Confusion matrix\n",
        "y_pred = np.argmax(model.predict(X_test), axis=1)\n",
        "cm = tf.math.confusion_matrix(y_true, y_pred)\n",
        "\n",
        "# Plotting the confusion matrix\n",
        "plt.figure(figsize=(10, 8))\n",
        "sns.heatmap(cm, annot=True, fmt='g')\n",
        "plt.xlabel('Predicted')\n",
        "plt.ylabel('Actual')\n",
        "plt.show()"
      ]
    },
    {
      "cell_type": "code",
      "execution_count": null,
      "metadata": {
        "colab": {
          "base_uri": "https://localhost:8080/"
        },
        "id": "oPsvS-EjVyZX",
        "outputId": "1c0941ba-f24b-4dff-8a9f-5bce2125e34d"
      },
      "outputs": [
        {
          "name": "stdout",
          "output_type": "stream",
          "text": [
            "              precision    recall  f1-score   support\n",
            "\n",
            "           0       0.59      0.51      0.55      1021\n",
            "           1       0.37      0.44      0.40      1000\n",
            "           2       0.37      0.35      0.36       985\n",
            "           3       0.40      0.39      0.39       973\n",
            "           4       0.57      0.58      0.57      1021\n",
            "\n",
            "    accuracy                           0.46      5000\n",
            "   macro avg       0.46      0.45      0.46      5000\n",
            "weighted avg       0.46      0.46      0.46      5000\n",
            "\n"
          ]
        }
      ],
      "source": [
        "from sklearn.metrics import classification_report\n",
        "report = classification_report(y_true, y_pred)\n",
        "print(report)"
      ]
    },
    {
      "cell_type": "code",
      "execution_count": null,
      "metadata": {
        "colab": {
          "base_uri": "https://localhost:8080/"
        },
        "id": "H3BtKpsfVz4r",
        "outputId": "238e1201-9030-40aa-89cc-56ed698e4c44"
      },
      "outputs": [
        {
          "name": "stdout",
          "output_type": "stream",
          "text": [
            "1/1 [==============================] - 0s 88ms/step\n",
            "The rating according to the review is:  1\n",
            "1/1 [==============================] - 0s 88ms/step\n",
            "The rating according to the review is:  5\n"
          ]
        }
      ],
      "source": [
        "def predict_review_rating(text):\n",
        "  text_sequences_test = np.array(tokenizer.texts_to_sequences([text]))\n",
        "  testing = pad_sequences(text_sequences_test, maxlen = max_words)\n",
        "  y_pred_test = np.argmax(model.predict(testing), axis=1)\n",
        "  return y_pred_test[0]+1\n",
        "\n",
        "# Testing\n",
        "rating1 = predict_review_rating('Worst product')\n",
        "print(\"The rating according to the review is: \", rating1)\n",
        "\n",
        "rating2 = predict_review_rating('Awesome product,  I will recommend this to other users.')\n",
        "print(\"The rating according to the review is: \", rating2)"
      ]
    }
  ],
  "metadata": {
    "accelerator": "GPU",
    "colab": {
      "gpuType": "T4",
      "provenance": []
    },
    "kernelspec": {
      "display_name": "base",
      "language": "python",
      "name": "python3"
    },
    "language_info": {
      "codemirror_mode": {
        "name": "ipython",
        "version": 3
      },
      "file_extension": ".py",
      "mimetype": "text/x-python",
      "name": "python",
      "nbconvert_exporter": "python",
      "pygments_lexer": "ipython3",
      "version": "3.12.4"
    }
  },
  "nbformat": 4,
  "nbformat_minor": 0
}
